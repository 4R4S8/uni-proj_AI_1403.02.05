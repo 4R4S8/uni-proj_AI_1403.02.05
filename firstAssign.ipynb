{
 "cells": [
  {
   "cell_type": "code",
   "execution_count": 15,
   "metadata": {},
   "outputs": [],
   "source": [
    "def parse_digit_to_string(number, string_length=4):\n",
    "    return str(number).zfill(string_length)\n",
    "\n",
    "def IsOdd(number):\n",
    "    return number % 2 != 0\n",
    "\n",
    "def Is2ndivBy1stEquals2point5(number):\n",
    "    parsedDigits = parse_digit_to_string(number)\n",
    "    firstNumber = int(parsedDigits[0])\n",
    "    secondNumber = int(parsedDigits[1])\n",
    "    if firstNumber != 0:\n",
    "        return secondNumber / firstNumber == 2.5    \n",
    "    else:\n",
    "        return False\n",
    "\n",
    "def Is3rdDivBy1stEquals4(number):\n",
    "    parsedDigits = parse_digit_to_string(number)\n",
    "    firstNumber = int(parsedDigits[0])\n",
    "    thirdNumber = int(parsedDigits[2])\n",
    "    if firstNumber != 0:\n",
    "        return thirdNumber / firstNumber == 4\n",
    "    else:\n",
    "        return False\n",
    "\n",
    "def Is4thOneUnitSmallerThan1st(number):\n",
    "    parsedDigits = parse_digit_to_string(number)\n",
    "    firstNumber = int(parsedDigits[0])\n",
    "    fourthNumber = int(parsedDigits[3])\n",
    "    return firstNumber - 1 == fourthNumber\n",
    "\n",
    "def Is1stThreeUnitSmallerThan2nd(number):\n",
    "    parsedDigits = parse_digit_to_string(number)\n",
    "    firstNumber = int(parsedDigits[0])\n",
    "    secondNumber = int(parsedDigits[1])\n",
    "    return secondNumber - 3 == firstNumber\n",
    "\n",
    "for number in range(10000):\n",
    "    if not IsOdd(number): continue\n",
    "    if not Is3rdDivBy1stEquals4(number): continue\n",
    "    if not Is4thOneUnitSmallerThan1st(number): continue\n",
    "    if not Is1stThreeUnitSmallerThan2nd(number): continue\n",
    "    if not Is2ndivBy1stEquals2point5(number): continue\n",
    "    print(parse_digit_to_string(number))\n"
   ]
  }
 ],
 "metadata": {
  "kernelspec": {
   "display_name": "Python 3",
   "language": "python",
   "name": "python3"
  },
  "language_info": {
   "codemirror_mode": {
    "name": "ipython",
    "version": 3
   },
   "file_extension": ".py",
   "mimetype": "text/x-python",
   "name": "python",
   "nbconvert_exporter": "python",
   "pygments_lexer": "ipython3",
   "version": "3.11.5"
  }
 },
 "nbformat": 4,
 "nbformat_minor": 2
}
