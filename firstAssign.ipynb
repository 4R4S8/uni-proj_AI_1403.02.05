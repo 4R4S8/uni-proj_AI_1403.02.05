{
 "cells": [
  {
   "cell_type": "code",
   "execution_count": 16,
   "metadata": {},
   "outputs": [
    {
     "name": "stdout",
     "output_type": "stream",
     "text": [
      "2581\n"
     ]
    }
   ],
   "source": [
    "# parse digits to string to access its index\n",
    "def parse_digit_to_string(number, string_length=4):\n",
    "    return str(number).zfill(string_length)\n",
    "\n",
    "# Checks if the number is odd. If the number is not odd (meaning it’s even), it continues to the next iteration without executing further checks.\n",
    "def IsOdd(number):\n",
    "    return number % 2 != 0\n",
    "\n",
    "#Checks if the second digit divided by the first digit equals 2.5. If not, it continues to the next iteration.\n",
    "def Is2ndivBy1stEquals2point5(number):\n",
    "    parsedDigits = parse_digit_to_string(number)\n",
    "    firstNumber = int(parsedDigits[0])\n",
    "    secondNumber = int(parsedDigits[1])\n",
    "    if firstNumber != 0:\n",
    "        return secondNumber / firstNumber == 2.5    \n",
    "    else:\n",
    "        return False\n",
    "\n",
    "#Checks if the third digit divided by the first digit equals 4. If not, it continues to the next iteration.\n",
    "def Is3rdDivBy1stEquals4(number):\n",
    "    parsedDigits = parse_digit_to_string(number)\n",
    "    firstNumber = int(parsedDigits[0])\n",
    "    thirdNumber = int(parsedDigits[2])\n",
    "    if firstNumber != 0:\n",
    "        return thirdNumber / firstNumber == 4\n",
    "    else:\n",
    "        return False\n",
    "\n",
    "#Checks if the fourth digit is one unit smaller than the first digit. If not, it continues to the next iteration.\n",
    "def Is4thOneUnitSmallerThan1st(number):\n",
    "    parsedDigits = parse_digit_to_string(number)\n",
    "    firstNumber = int(parsedDigits[0])\n",
    "    fourthNumber = int(parsedDigits[3])\n",
    "    return firstNumber - 1 == fourthNumber\n",
    "\n",
    "# Checks if the first digit is three units smaller than the second digit. If not, it continues to the next iteration.\n",
    "def Is1stThreeUnitSmallerThan2nd(number):\n",
    "    parsedDigits = parse_digit_to_string(number)\n",
    "    firstNumber = int(parsedDigits[0])\n",
    "    secondNumber = int(parsedDigits[1])\n",
    "    return secondNumber - 3 == firstNumber\n",
    "\n",
    "# Iterates through numbers from 0 to 9999 to find the safe code\n",
    "for number in range(10000):\n",
    "    if not IsOdd(number): continue\n",
    "    if not Is3rdDivBy1stEquals4(number): continue\n",
    "    if not Is4thOneUnitSmallerThan1st(number): continue\n",
    "    if not Is1stThreeUnitSmallerThan2nd(number): continue\n",
    "    if not Is2ndivBy1stEquals2point5(number): continue\n",
    "    print(parse_digit_to_string(number))\n"
   ]
  },
  {
   "cell_type": "code",
   "execution_count": 20,
   "metadata": {},
   "outputs": [
    {
     "name": "stdout",
     "output_type": "stream",
     "text": [
      "The word 'person' is repeated 4 times.\n"
     ]
    }
   ],
   "source": [
    "from collections import Counter\n",
    "\n",
    "def CountSpecifiedWordInSentence(sentence, word):\n",
    "    # Split the sentence into words and create a Counter object\n",
    "    word_counts = Counter(sentence.split())\n",
    "    # Get the count of the specific word\n",
    "    return word_counts[word]\n",
    "\n",
    "# Example usage:\n",
    "sentence = \"The fact of a person isn’t the same that the person shows, haply the fact is same that the person can’t show it, if you want to identify a person listen to his unsaid not said\"\n",
    "word_to_count = \"person\"\n",
    "count = CountSpecifiedWordInSentence(sentence, word_to_count)\n",
    "print(f\"The word '{word_to_count}' is repeated {count} times.\")\n"
   ]
  }
 ],
 "metadata": {
  "kernelspec": {
   "display_name": "Python 3",
   "language": "python",
   "name": "python3"
  },
  "language_info": {
   "codemirror_mode": {
    "name": "ipython",
    "version": 3
   },
   "file_extension": ".py",
   "mimetype": "text/x-python",
   "name": "python",
   "nbconvert_exporter": "python",
   "pygments_lexer": "ipython3",
   "version": "3.11.5"
  }
 },
 "nbformat": 4,
 "nbformat_minor": 2
}
